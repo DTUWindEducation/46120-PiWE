{
  "cells": [
    {
      "cell_type": "markdown",
      "metadata": {
        "id": "view-in-github",
        "colab_type": "text"
      },
      "source": [
        "<a href=\"https://colab.research.google.com/github/sofiiimr/46120-PiWE/blob/main/docs/notebooks/cables.ipynb\" target=\"_parent\"><img src=\"https://colab.research.google.com/assets/colab-badge.svg\" alt=\"Open In Colab\"/></a>"
      ]
    },
    {
      "cell_type": "markdown",
      "metadata": {
        "id": "zK8jFpYUH8qC"
      },
      "source": [
        "## Cables"
      ]
    },
    {
      "cell_type": "markdown",
      "metadata": {
        "id": "O85XBxWXH8qJ"
      },
      "source": [
        "[Try this yourself](https://colab.research.google.com/github/DTUWindEnergy/TopFarm2/blob/master/docs/notebooks/cables.ipynb) (requires google account)\n"
      ]
    },
    {
      "cell_type": "markdown",
      "metadata": {
        "id": "hzFiZjbPH8qL"
      },
      "source": [
        "TOPFARM can use the Electrical Network Design package EDWIN to optimize the carray cabels as well as the substation position at each iteration of the layout optimization"
      ]
    },
    {
      "cell_type": "markdown",
      "metadata": {
        "id": "fdQ98-XUH8qM"
      },
      "source": [
        "**Install TOPFARM if needed**"
      ]
    },
    {
      "cell_type": "code",
      "execution_count": 1,
      "metadata": {
        "id": "XsWFZ86xH8qN",
        "outputId": "a28a3bd7-2cd0-490a-f614-addf8f7afa8a",
        "colab": {
          "base_uri": "https://localhost:8080/"
        }
      },
      "outputs": [
        {
          "output_type": "stream",
          "name": "stdout",
          "text": [
            "Collecting git+https://gitlab.windenergy.dtu.dk/TOPFARM/TopFarm2.git\n",
            "  Cloning https://gitlab.windenergy.dtu.dk/TOPFARM/TopFarm2.git to /tmp/pip-req-build-7x00ed3d\n",
            "  Running command git clone --filter=blob:none --quiet https://gitlab.windenergy.dtu.dk/TOPFARM/TopFarm2.git /tmp/pip-req-build-7x00ed3d\n",
            "  Resolved https://gitlab.windenergy.dtu.dk/TOPFARM/TopFarm2.git to commit fb5b0bb26f307630e7f06b000de4f1b0682e5305\n",
            "  Installing build dependencies ... \u001b[?25l\u001b[?25hdone\n",
            "  Getting requirements to build wheel ... \u001b[?25l\u001b[?25hdone\n",
            "  Preparing metadata (pyproject.toml) ... \u001b[?25l\u001b[?25hdone\n",
            "Collecting jupyterlab<5,>=4.2.5 (from topfarm==2.5.1.post2)\n",
            "  Downloading jupyterlab-4.3.6-py3-none-any.whl.metadata (16 kB)\n",
            "Requirement already satisfied: matplotlib<4,>=3.7.5 in /usr/local/lib/python3.11/dist-packages (from topfarm==2.5.1.post2) (3.10.0)\n",
            "Collecting numpy-financial<2,>=1.0.0 (from topfarm==2.5.1.post2)\n",
            "  Downloading numpy_financial-1.0.0-py3-none-any.whl.metadata (2.2 kB)\n",
            "Requirement already satisfied: numpy<3,>=1.24.3 in /usr/local/lib/python3.11/dist-packages (from topfarm==2.5.1.post2) (2.0.2)\n",
            "Collecting openmdao<=4,>=3.27 (from topfarm==2.5.1.post2)\n",
            "  Downloading openmdao-3.38.0.tar.gz (12.6 MB)\n",
            "\u001b[2K     \u001b[90m━━━━━━━━━━━━━━━━━━━━━━━━━━━━━━━━━━━━━━━━\u001b[0m \u001b[32m12.6/12.6 MB\u001b[0m \u001b[31m87.7 MB/s\u001b[0m eta \u001b[36m0:00:00\u001b[0m\n",
            "\u001b[?25h  Installing build dependencies ... \u001b[?25l\u001b[?25hdone\n",
            "  Getting requirements to build wheel ... \u001b[?25l\u001b[?25hdone\n",
            "  Preparing metadata (pyproject.toml) ... \u001b[?25l\u001b[?25hdone\n",
            "Collecting py-wake<3,>=2.6.5 (from topfarm==2.5.1.post2)\n",
            "  Downloading py_wake-2.6.10-py3-none-any.whl.metadata (3.5 kB)\n",
            "Collecting pydoe2<2,>=1.3.0 (from topfarm==2.5.1.post2)\n",
            "  Downloading pyDOE2-1.3.0.tar.gz (19 kB)\n",
            "  Preparing metadata (setup.py) ... \u001b[?25l\u001b[?25hdone\n",
            "Collecting pydoe3<2,>=1.0.4 (from topfarm==2.5.1.post2)\n",
            "  Downloading pydoe3-1.0.4-py2.py3-none-any.whl.metadata (4.2 kB)\n",
            "Requirement already satisfied: scikit-learn<2,>=1.3.2 in /usr/local/lib/python3.11/dist-packages (from topfarm==2.5.1.post2) (1.6.1)\n",
            "Requirement already satisfied: scipy<2,>=1.10.1 in /usr/local/lib/python3.11/dist-packages (from topfarm==2.5.1.post2) (1.14.1)\n",
            "Requirement already satisfied: shapely<3,>=2.0.6 in /usr/local/lib/python3.11/dist-packages (from topfarm==2.5.1.post2) (2.0.7)\n",
            "Collecting async-lru>=1.0.0 (from jupyterlab<5,>=4.2.5->topfarm==2.5.1.post2)\n",
            "  Downloading async_lru-2.0.5-py3-none-any.whl.metadata (4.5 kB)\n",
            "Requirement already satisfied: httpx>=0.25.0 in /usr/local/lib/python3.11/dist-packages (from jupyterlab<5,>=4.2.5->topfarm==2.5.1.post2) (0.28.1)\n",
            "Requirement already satisfied: ipykernel>=6.5.0 in /usr/local/lib/python3.11/dist-packages (from jupyterlab<5,>=4.2.5->topfarm==2.5.1.post2) (6.17.1)\n",
            "Requirement already satisfied: jinja2>=3.0.3 in /usr/local/lib/python3.11/dist-packages (from jupyterlab<5,>=4.2.5->topfarm==2.5.1.post2) (3.1.6)\n",
            "Requirement already satisfied: jupyter-core in /usr/local/lib/python3.11/dist-packages (from jupyterlab<5,>=4.2.5->topfarm==2.5.1.post2) (5.7.2)\n",
            "Collecting jupyter-lsp>=2.0.0 (from jupyterlab<5,>=4.2.5->topfarm==2.5.1.post2)\n",
            "  Downloading jupyter_lsp-2.2.5-py3-none-any.whl.metadata (1.8 kB)\n",
            "Collecting jupyter-server<3,>=2.4.0 (from jupyterlab<5,>=4.2.5->topfarm==2.5.1.post2)\n",
            "  Downloading jupyter_server-2.15.0-py3-none-any.whl.metadata (8.4 kB)\n",
            "Collecting jupyterlab-server<3,>=2.27.1 (from jupyterlab<5,>=4.2.5->topfarm==2.5.1.post2)\n",
            "  Downloading jupyterlab_server-2.27.3-py3-none-any.whl.metadata (5.9 kB)\n",
            "Requirement already satisfied: notebook-shim>=0.2 in /usr/local/lib/python3.11/dist-packages (from jupyterlab<5,>=4.2.5->topfarm==2.5.1.post2) (0.2.4)\n",
            "Requirement already satisfied: packaging in /usr/local/lib/python3.11/dist-packages (from jupyterlab<5,>=4.2.5->topfarm==2.5.1.post2) (24.2)\n",
            "Requirement already satisfied: setuptools>=40.8.0 in /usr/local/lib/python3.11/dist-packages (from jupyterlab<5,>=4.2.5->topfarm==2.5.1.post2) (75.1.0)\n",
            "Requirement already satisfied: tornado>=6.2.0 in /usr/local/lib/python3.11/dist-packages (from jupyterlab<5,>=4.2.5->topfarm==2.5.1.post2) (6.4.2)\n",
            "Requirement already satisfied: traitlets in /usr/local/lib/python3.11/dist-packages (from jupyterlab<5,>=4.2.5->topfarm==2.5.1.post2) (5.7.1)\n",
            "Requirement already satisfied: contourpy>=1.0.1 in /usr/local/lib/python3.11/dist-packages (from matplotlib<4,>=3.7.5->topfarm==2.5.1.post2) (1.3.1)\n",
            "Requirement already satisfied: cycler>=0.10 in /usr/local/lib/python3.11/dist-packages (from matplotlib<4,>=3.7.5->topfarm==2.5.1.post2) (0.12.1)\n",
            "Requirement already satisfied: fonttools>=4.22.0 in /usr/local/lib/python3.11/dist-packages (from matplotlib<4,>=3.7.5->topfarm==2.5.1.post2) (4.56.0)\n",
            "Requirement already satisfied: kiwisolver>=1.3.1 in /usr/local/lib/python3.11/dist-packages (from matplotlib<4,>=3.7.5->topfarm==2.5.1.post2) (1.4.8)\n",
            "Requirement already satisfied: pillow>=8 in /usr/local/lib/python3.11/dist-packages (from matplotlib<4,>=3.7.5->topfarm==2.5.1.post2) (11.1.0)\n",
            "Requirement already satisfied: pyparsing>=2.3.1 in /usr/local/lib/python3.11/dist-packages (from matplotlib<4,>=3.7.5->topfarm==2.5.1.post2) (3.2.1)\n",
            "Requirement already satisfied: python-dateutil>=2.7 in /usr/local/lib/python3.11/dist-packages (from matplotlib<4,>=3.7.5->topfarm==2.5.1.post2) (2.8.2)\n",
            "Requirement already satisfied: networkx>=2.0 in /usr/local/lib/python3.11/dist-packages (from openmdao<=4,>=3.27->topfarm==2.5.1.post2) (3.4.2)\n",
            "Requirement already satisfied: requests in /usr/local/lib/python3.11/dist-packages (from openmdao<=4,>=3.27->topfarm==2.5.1.post2) (2.32.3)\n",
            "Collecting git-lfs (from py-wake<3,>=2.6.5->topfarm==2.5.1.post2)\n",
            "  Downloading git_lfs-1.6-py2.py3-none-any.whl.metadata (1.2 kB)\n",
            "Requirement already satisfied: xarray>=2024.6.1 in /usr/local/lib/python3.11/dist-packages (from py-wake<3,>=2.6.5->topfarm==2.5.1.post2) (2025.1.2)\n",
            "Collecting netcdf4 (from py-wake<3,>=2.6.5->topfarm==2.5.1.post2)\n",
            "  Downloading netCDF4-1.7.2-cp311-cp311-manylinux_2_17_x86_64.manylinux2014_x86_64.whl.metadata (1.8 kB)\n",
            "Requirement already satisfied: h5netcdf in /usr/local/lib/python3.11/dist-packages (from py-wake<3,>=2.6.5->topfarm==2.5.1.post2) (1.6.1)\n",
            "Requirement already satisfied: autograd in /usr/local/lib/python3.11/dist-packages (from py-wake<3,>=2.6.5->topfarm==2.5.1.post2) (1.7.0)\n",
            "Requirement already satisfied: pyyaml in /usr/local/lib/python3.11/dist-packages (from py-wake<3,>=2.6.5->topfarm==2.5.1.post2) (6.0.2)\n",
            "Requirement already satisfied: tqdm in /usr/local/lib/python3.11/dist-packages (from py-wake<3,>=2.6.5->topfarm==2.5.1.post2) (4.67.1)\n",
            "Requirement already satisfied: joblib>=1.3 in /usr/local/lib/python3.11/dist-packages (from py-wake<3,>=2.6.5->topfarm==2.5.1.post2) (1.4.2)\n",
            "Requirement already satisfied: threadpoolctl>=3.1.0 in /usr/local/lib/python3.11/dist-packages (from scikit-learn<2,>=1.3.2->topfarm==2.5.1.post2) (3.6.0)\n",
            "Requirement already satisfied: anyio in /usr/local/lib/python3.11/dist-packages (from httpx>=0.25.0->jupyterlab<5,>=4.2.5->topfarm==2.5.1.post2) (4.9.0)\n",
            "Requirement already satisfied: certifi in /usr/local/lib/python3.11/dist-packages (from httpx>=0.25.0->jupyterlab<5,>=4.2.5->topfarm==2.5.1.post2) (2025.1.31)\n",
            "Requirement already satisfied: httpcore==1.* in /usr/local/lib/python3.11/dist-packages (from httpx>=0.25.0->jupyterlab<5,>=4.2.5->topfarm==2.5.1.post2) (1.0.7)\n",
            "Requirement already satisfied: idna in /usr/local/lib/python3.11/dist-packages (from httpx>=0.25.0->jupyterlab<5,>=4.2.5->topfarm==2.5.1.post2) (3.10)\n",
            "Requirement already satisfied: h11<0.15,>=0.13 in /usr/local/lib/python3.11/dist-packages (from httpcore==1.*->httpx>=0.25.0->jupyterlab<5,>=4.2.5->topfarm==2.5.1.post2) (0.14.0)\n",
            "Requirement already satisfied: debugpy>=1.0 in /usr/local/lib/python3.11/dist-packages (from ipykernel>=6.5.0->jupyterlab<5,>=4.2.5->topfarm==2.5.1.post2) (1.8.0)\n",
            "Requirement already satisfied: ipython>=7.23.1 in /usr/local/lib/python3.11/dist-packages (from ipykernel>=6.5.0->jupyterlab<5,>=4.2.5->topfarm==2.5.1.post2) (7.34.0)\n",
            "Requirement already satisfied: jupyter-client>=6.1.12 in /usr/local/lib/python3.11/dist-packages (from ipykernel>=6.5.0->jupyterlab<5,>=4.2.5->topfarm==2.5.1.post2) (6.1.12)\n",
            "Requirement already satisfied: matplotlib-inline>=0.1 in /usr/local/lib/python3.11/dist-packages (from ipykernel>=6.5.0->jupyterlab<5,>=4.2.5->topfarm==2.5.1.post2) (0.1.7)\n",
            "Requirement already satisfied: nest-asyncio in /usr/local/lib/python3.11/dist-packages (from ipykernel>=6.5.0->jupyterlab<5,>=4.2.5->topfarm==2.5.1.post2) (1.6.0)\n",
            "Requirement already satisfied: psutil in /usr/local/lib/python3.11/dist-packages (from ipykernel>=6.5.0->jupyterlab<5,>=4.2.5->topfarm==2.5.1.post2) (5.9.5)\n",
            "Requirement already satisfied: pyzmq>=17 in /usr/local/lib/python3.11/dist-packages (from ipykernel>=6.5.0->jupyterlab<5,>=4.2.5->topfarm==2.5.1.post2) (24.0.1)\n",
            "Requirement already satisfied: MarkupSafe>=2.0 in /usr/local/lib/python3.11/dist-packages (from jinja2>=3.0.3->jupyterlab<5,>=4.2.5->topfarm==2.5.1.post2) (3.0.2)\n",
            "Requirement already satisfied: argon2-cffi>=21.1 in /usr/local/lib/python3.11/dist-packages (from jupyter-server<3,>=2.4.0->jupyterlab<5,>=4.2.5->topfarm==2.5.1.post2) (23.1.0)\n",
            "Collecting jupyter-client>=6.1.12 (from ipykernel>=6.5.0->jupyterlab<5,>=4.2.5->topfarm==2.5.1.post2)\n",
            "  Downloading jupyter_client-8.6.3-py3-none-any.whl.metadata (8.3 kB)\n",
            "Collecting jupyter-events>=0.11.0 (from jupyter-server<3,>=2.4.0->jupyterlab<5,>=4.2.5->topfarm==2.5.1.post2)\n",
            "  Downloading jupyter_events-0.12.0-py3-none-any.whl.metadata (5.8 kB)\n",
            "Collecting jupyter-server-terminals>=0.4.4 (from jupyter-server<3,>=2.4.0->jupyterlab<5,>=4.2.5->topfarm==2.5.1.post2)\n",
            "  Downloading jupyter_server_terminals-0.5.3-py3-none-any.whl.metadata (5.6 kB)\n",
            "Requirement already satisfied: nbconvert>=6.4.4 in /usr/local/lib/python3.11/dist-packages (from jupyter-server<3,>=2.4.0->jupyterlab<5,>=4.2.5->topfarm==2.5.1.post2) (7.16.6)\n",
            "Requirement already satisfied: nbformat>=5.3.0 in /usr/local/lib/python3.11/dist-packages (from jupyter-server<3,>=2.4.0->jupyterlab<5,>=4.2.5->topfarm==2.5.1.post2) (5.10.4)\n",
            "Collecting overrides>=5.0 (from jupyter-server<3,>=2.4.0->jupyterlab<5,>=4.2.5->topfarm==2.5.1.post2)\n",
            "  Downloading overrides-7.7.0-py3-none-any.whl.metadata (5.8 kB)\n",
            "Requirement already satisfied: prometheus-client>=0.9 in /usr/local/lib/python3.11/dist-packages (from jupyter-server<3,>=2.4.0->jupyterlab<5,>=4.2.5->topfarm==2.5.1.post2) (0.21.1)\n",
            "Requirement already satisfied: send2trash>=1.8.2 in /usr/local/lib/python3.11/dist-packages (from jupyter-server<3,>=2.4.0->jupyterlab<5,>=4.2.5->topfarm==2.5.1.post2) (1.8.3)\n",
            "Requirement already satisfied: terminado>=0.8.3 in /usr/local/lib/python3.11/dist-packages (from jupyter-server<3,>=2.4.0->jupyterlab<5,>=4.2.5->topfarm==2.5.1.post2) (0.18.1)\n",
            "Requirement already satisfied: websocket-client>=1.7 in /usr/local/lib/python3.11/dist-packages (from jupyter-server<3,>=2.4.0->jupyterlab<5,>=4.2.5->topfarm==2.5.1.post2) (1.8.0)\n",
            "Requirement already satisfied: platformdirs>=2.5 in /usr/local/lib/python3.11/dist-packages (from jupyter-core->jupyterlab<5,>=4.2.5->topfarm==2.5.1.post2) (4.3.6)\n",
            "Requirement already satisfied: babel>=2.10 in /usr/local/lib/python3.11/dist-packages (from jupyterlab-server<3,>=2.27.1->jupyterlab<5,>=4.2.5->topfarm==2.5.1.post2) (2.17.0)\n",
            "Collecting json5>=0.9.0 (from jupyterlab-server<3,>=2.27.1->jupyterlab<5,>=4.2.5->topfarm==2.5.1.post2)\n",
            "  Downloading json5-0.10.0-py3-none-any.whl.metadata (34 kB)\n",
            "Requirement already satisfied: jsonschema>=4.18.0 in /usr/local/lib/python3.11/dist-packages (from jupyterlab-server<3,>=2.27.1->jupyterlab<5,>=4.2.5->topfarm==2.5.1.post2) (4.23.0)\n",
            "Requirement already satisfied: six>=1.5 in /usr/local/lib/python3.11/dist-packages (from python-dateutil>=2.7->matplotlib<4,>=3.7.5->topfarm==2.5.1.post2) (1.17.0)\n",
            "Requirement already satisfied: charset-normalizer<4,>=2 in /usr/local/lib/python3.11/dist-packages (from requests->openmdao<=4,>=3.27->topfarm==2.5.1.post2) (3.4.1)\n",
            "Requirement already satisfied: urllib3<3,>=1.21.1 in /usr/local/lib/python3.11/dist-packages (from requests->openmdao<=4,>=3.27->topfarm==2.5.1.post2) (2.3.0)\n",
            "Requirement already satisfied: pandas>=2.1 in /usr/local/lib/python3.11/dist-packages (from xarray>=2024.6.1->py-wake<3,>=2.6.5->topfarm==2.5.1.post2) (2.2.2)\n",
            "Requirement already satisfied: h5py in /usr/local/lib/python3.11/dist-packages (from h5netcdf->py-wake<3,>=2.6.5->topfarm==2.5.1.post2) (3.13.0)\n",
            "Collecting cftime (from netcdf4->py-wake<3,>=2.6.5->topfarm==2.5.1.post2)\n",
            "  Downloading cftime-1.6.4.post1-cp311-cp311-manylinux_2_17_x86_64.manylinux2014_x86_64.whl.metadata (8.7 kB)\n",
            "Requirement already satisfied: sniffio>=1.1 in /usr/local/lib/python3.11/dist-packages (from anyio->httpx>=0.25.0->jupyterlab<5,>=4.2.5->topfarm==2.5.1.post2) (1.3.1)\n",
            "Requirement already satisfied: typing_extensions>=4.5 in /usr/local/lib/python3.11/dist-packages (from anyio->httpx>=0.25.0->jupyterlab<5,>=4.2.5->topfarm==2.5.1.post2) (4.12.2)\n",
            "Requirement already satisfied: argon2-cffi-bindings in /usr/local/lib/python3.11/dist-packages (from argon2-cffi>=21.1->jupyter-server<3,>=2.4.0->jupyterlab<5,>=4.2.5->topfarm==2.5.1.post2) (21.2.0)\n",
            "Collecting jedi>=0.16 (from ipython>=7.23.1->ipykernel>=6.5.0->jupyterlab<5,>=4.2.5->topfarm==2.5.1.post2)\n",
            "  Downloading jedi-0.19.2-py2.py3-none-any.whl.metadata (22 kB)\n",
            "Requirement already satisfied: decorator in /usr/local/lib/python3.11/dist-packages (from ipython>=7.23.1->ipykernel>=6.5.0->jupyterlab<5,>=4.2.5->topfarm==2.5.1.post2) (4.4.2)\n",
            "Requirement already satisfied: pickleshare in /usr/local/lib/python3.11/dist-packages (from ipython>=7.23.1->ipykernel>=6.5.0->jupyterlab<5,>=4.2.5->topfarm==2.5.1.post2) (0.7.5)\n",
            "Requirement already satisfied: prompt-toolkit!=3.0.0,!=3.0.1,<3.1.0,>=2.0.0 in /usr/local/lib/python3.11/dist-packages (from ipython>=7.23.1->ipykernel>=6.5.0->jupyterlab<5,>=4.2.5->topfarm==2.5.1.post2) (3.0.50)\n",
            "Requirement already satisfied: pygments in /usr/local/lib/python3.11/dist-packages (from ipython>=7.23.1->ipykernel>=6.5.0->jupyterlab<5,>=4.2.5->topfarm==2.5.1.post2) (2.18.0)\n",
            "Requirement already satisfied: backcall in /usr/local/lib/python3.11/dist-packages (from ipython>=7.23.1->ipykernel>=6.5.0->jupyterlab<5,>=4.2.5->topfarm==2.5.1.post2) (0.2.0)\n",
            "Requirement already satisfied: pexpect>4.3 in /usr/local/lib/python3.11/dist-packages (from ipython>=7.23.1->ipykernel>=6.5.0->jupyterlab<5,>=4.2.5->topfarm==2.5.1.post2) (4.9.0)\n",
            "Requirement already satisfied: attrs>=22.2.0 in /usr/local/lib/python3.11/dist-packages (from jsonschema>=4.18.0->jupyterlab-server<3,>=2.27.1->jupyterlab<5,>=4.2.5->topfarm==2.5.1.post2) (25.3.0)\n",
            "Requirement already satisfied: jsonschema-specifications>=2023.03.6 in /usr/local/lib/python3.11/dist-packages (from jsonschema>=4.18.0->jupyterlab-server<3,>=2.27.1->jupyterlab<5,>=4.2.5->topfarm==2.5.1.post2) (2024.10.1)\n",
            "Requirement already satisfied: referencing>=0.28.4 in /usr/local/lib/python3.11/dist-packages (from jsonschema>=4.18.0->jupyterlab-server<3,>=2.27.1->jupyterlab<5,>=4.2.5->topfarm==2.5.1.post2) (0.36.2)\n",
            "Requirement already satisfied: rpds-py>=0.7.1 in /usr/local/lib/python3.11/dist-packages (from jsonschema>=4.18.0->jupyterlab-server<3,>=2.27.1->jupyterlab<5,>=4.2.5->topfarm==2.5.1.post2) (0.23.1)\n",
            "Collecting python-json-logger>=2.0.4 (from jupyter-events>=0.11.0->jupyter-server<3,>=2.4.0->jupyterlab<5,>=4.2.5->topfarm==2.5.1.post2)\n",
            "  Downloading python_json_logger-3.3.0-py3-none-any.whl.metadata (4.0 kB)\n",
            "Collecting rfc3339-validator (from jupyter-events>=0.11.0->jupyter-server<3,>=2.4.0->jupyterlab<5,>=4.2.5->topfarm==2.5.1.post2)\n",
            "  Downloading rfc3339_validator-0.1.4-py2.py3-none-any.whl.metadata (1.5 kB)\n",
            "Collecting rfc3986-validator>=0.1.1 (from jupyter-events>=0.11.0->jupyter-server<3,>=2.4.0->jupyterlab<5,>=4.2.5->topfarm==2.5.1.post2)\n",
            "  Downloading rfc3986_validator-0.1.1-py2.py3-none-any.whl.metadata (1.7 kB)\n",
            "Requirement already satisfied: beautifulsoup4 in /usr/local/lib/python3.11/dist-packages (from nbconvert>=6.4.4->jupyter-server<3,>=2.4.0->jupyterlab<5,>=4.2.5->topfarm==2.5.1.post2) (4.13.3)\n",
            "Requirement already satisfied: bleach!=5.0.0 in /usr/local/lib/python3.11/dist-packages (from bleach[css]!=5.0.0->nbconvert>=6.4.4->jupyter-server<3,>=2.4.0->jupyterlab<5,>=4.2.5->topfarm==2.5.1.post2) (6.2.0)\n",
            "Requirement already satisfied: defusedxml in /usr/local/lib/python3.11/dist-packages (from nbconvert>=6.4.4->jupyter-server<3,>=2.4.0->jupyterlab<5,>=4.2.5->topfarm==2.5.1.post2) (0.7.1)\n",
            "Requirement already satisfied: jupyterlab-pygments in /usr/local/lib/python3.11/dist-packages (from nbconvert>=6.4.4->jupyter-server<3,>=2.4.0->jupyterlab<5,>=4.2.5->topfarm==2.5.1.post2) (0.3.0)\n",
            "Requirement already satisfied: mistune<4,>=2.0.3 in /usr/local/lib/python3.11/dist-packages (from nbconvert>=6.4.4->jupyter-server<3,>=2.4.0->jupyterlab<5,>=4.2.5->topfarm==2.5.1.post2) (3.1.2)\n",
            "Requirement already satisfied: nbclient>=0.5.0 in /usr/local/lib/python3.11/dist-packages (from nbconvert>=6.4.4->jupyter-server<3,>=2.4.0->jupyterlab<5,>=4.2.5->topfarm==2.5.1.post2) (0.10.2)\n",
            "Requirement already satisfied: pandocfilters>=1.4.1 in /usr/local/lib/python3.11/dist-packages (from nbconvert>=6.4.4->jupyter-server<3,>=2.4.0->jupyterlab<5,>=4.2.5->topfarm==2.5.1.post2) (1.5.1)\n",
            "Requirement already satisfied: fastjsonschema>=2.15 in /usr/local/lib/python3.11/dist-packages (from nbformat>=5.3.0->jupyter-server<3,>=2.4.0->jupyterlab<5,>=4.2.5->topfarm==2.5.1.post2) (2.21.1)\n",
            "Requirement already satisfied: pytz>=2020.1 in /usr/local/lib/python3.11/dist-packages (from pandas>=2.1->xarray>=2024.6.1->py-wake<3,>=2.6.5->topfarm==2.5.1.post2) (2025.1)\n",
            "Requirement already satisfied: tzdata>=2022.7 in /usr/local/lib/python3.11/dist-packages (from pandas>=2.1->xarray>=2024.6.1->py-wake<3,>=2.6.5->topfarm==2.5.1.post2) (2025.1)\n",
            "Requirement already satisfied: ptyprocess in /usr/local/lib/python3.11/dist-packages (from terminado>=0.8.3->jupyter-server<3,>=2.4.0->jupyterlab<5,>=4.2.5->topfarm==2.5.1.post2) (0.7.0)\n",
            "Requirement already satisfied: webencodings in /usr/local/lib/python3.11/dist-packages (from bleach!=5.0.0->bleach[css]!=5.0.0->nbconvert>=6.4.4->jupyter-server<3,>=2.4.0->jupyterlab<5,>=4.2.5->topfarm==2.5.1.post2) (0.5.1)\n",
            "Requirement already satisfied: tinycss2<1.5,>=1.1.0 in /usr/local/lib/python3.11/dist-packages (from bleach[css]!=5.0.0->nbconvert>=6.4.4->jupyter-server<3,>=2.4.0->jupyterlab<5,>=4.2.5->topfarm==2.5.1.post2) (1.4.0)\n",
            "Requirement already satisfied: parso<0.9.0,>=0.8.4 in /usr/local/lib/python3.11/dist-packages (from jedi>=0.16->ipython>=7.23.1->ipykernel>=6.5.0->jupyterlab<5,>=4.2.5->topfarm==2.5.1.post2) (0.8.4)\n",
            "Collecting fqdn (from jsonschema[format-nongpl]>=4.18.0->jupyter-events>=0.11.0->jupyter-server<3,>=2.4.0->jupyterlab<5,>=4.2.5->topfarm==2.5.1.post2)\n",
            "  Downloading fqdn-1.5.1-py3-none-any.whl.metadata (1.4 kB)\n",
            "Collecting isoduration (from jsonschema[format-nongpl]>=4.18.0->jupyter-events>=0.11.0->jupyter-server<3,>=2.4.0->jupyterlab<5,>=4.2.5->topfarm==2.5.1.post2)\n",
            "  Downloading isoduration-20.11.0-py3-none-any.whl.metadata (5.7 kB)\n",
            "Requirement already satisfied: jsonpointer>1.13 in /usr/local/lib/python3.11/dist-packages (from jsonschema[format-nongpl]>=4.18.0->jupyter-events>=0.11.0->jupyter-server<3,>=2.4.0->jupyterlab<5,>=4.2.5->topfarm==2.5.1.post2) (3.0.0)\n",
            "Collecting uri-template (from jsonschema[format-nongpl]>=4.18.0->jupyter-events>=0.11.0->jupyter-server<3,>=2.4.0->jupyterlab<5,>=4.2.5->topfarm==2.5.1.post2)\n",
            "  Downloading uri_template-1.3.0-py3-none-any.whl.metadata (8.8 kB)\n",
            "Requirement already satisfied: webcolors>=24.6.0 in /usr/local/lib/python3.11/dist-packages (from jsonschema[format-nongpl]>=4.18.0->jupyter-events>=0.11.0->jupyter-server<3,>=2.4.0->jupyterlab<5,>=4.2.5->topfarm==2.5.1.post2) (24.11.1)\n",
            "Requirement already satisfied: wcwidth in /usr/local/lib/python3.11/dist-packages (from prompt-toolkit!=3.0.0,!=3.0.1,<3.1.0,>=2.0.0->ipython>=7.23.1->ipykernel>=6.5.0->jupyterlab<5,>=4.2.5->topfarm==2.5.1.post2) (0.2.13)\n",
            "Requirement already satisfied: cffi>=1.0.1 in /usr/local/lib/python3.11/dist-packages (from argon2-cffi-bindings->argon2-cffi>=21.1->jupyter-server<3,>=2.4.0->jupyterlab<5,>=4.2.5->topfarm==2.5.1.post2) (1.17.1)\n",
            "Requirement already satisfied: soupsieve>1.2 in /usr/local/lib/python3.11/dist-packages (from beautifulsoup4->nbconvert>=6.4.4->jupyter-server<3,>=2.4.0->jupyterlab<5,>=4.2.5->topfarm==2.5.1.post2) (2.6)\n",
            "Requirement already satisfied: pycparser in /usr/local/lib/python3.11/dist-packages (from cffi>=1.0.1->argon2-cffi-bindings->argon2-cffi>=21.1->jupyter-server<3,>=2.4.0->jupyterlab<5,>=4.2.5->topfarm==2.5.1.post2) (2.22)\n",
            "Collecting arrow>=0.15.0 (from isoduration->jsonschema[format-nongpl]>=4.18.0->jupyter-events>=0.11.0->jupyter-server<3,>=2.4.0->jupyterlab<5,>=4.2.5->topfarm==2.5.1.post2)\n",
            "  Downloading arrow-1.3.0-py3-none-any.whl.metadata (7.5 kB)\n",
            "Collecting types-python-dateutil>=2.8.10 (from arrow>=0.15.0->isoduration->jsonschema[format-nongpl]>=4.18.0->jupyter-events>=0.11.0->jupyter-server<3,>=2.4.0->jupyterlab<5,>=4.2.5->topfarm==2.5.1.post2)\n",
            "  Downloading types_python_dateutil-2.9.0.20241206-py3-none-any.whl.metadata (2.1 kB)\n",
            "Downloading jupyterlab-4.3.6-py3-none-any.whl (11.7 MB)\n",
            "\u001b[2K   \u001b[90m━━━━━━━━━━━━━━━━━━━━━━━━━━━━━━━━━━━━━━━━\u001b[0m \u001b[32m11.7/11.7 MB\u001b[0m \u001b[31m61.3 MB/s\u001b[0m eta \u001b[36m0:00:00\u001b[0m\n",
            "\u001b[?25hDownloading numpy_financial-1.0.0-py3-none-any.whl (14 kB)\n",
            "Downloading py_wake-2.6.10-py3-none-any.whl (19.9 MB)\n",
            "\u001b[2K   \u001b[90m━━━━━━━━━━━━━━━━━━━━━━━━━━━━━━━━━━━━━━━━\u001b[0m \u001b[32m19.9/19.9 MB\u001b[0m \u001b[31m16.1 MB/s\u001b[0m eta \u001b[36m0:00:00\u001b[0m\n",
            "\u001b[?25hDownloading pydoe3-1.0.4-py2.py3-none-any.whl (25 kB)\n",
            "Downloading async_lru-2.0.5-py3-none-any.whl (6.1 kB)\n",
            "Downloading jupyter_lsp-2.2.5-py3-none-any.whl (69 kB)\n",
            "\u001b[2K   \u001b[90m━━━━━━━━━━━━━━━━━━━━━━━━━━━━━━━━━━━━━━━━\u001b[0m \u001b[32m69.1/69.1 kB\u001b[0m \u001b[31m4.8 MB/s\u001b[0m eta \u001b[36m0:00:00\u001b[0m\n",
            "\u001b[?25hDownloading jupyter_server-2.15.0-py3-none-any.whl (385 kB)\n",
            "\u001b[2K   \u001b[90m━━━━━━━━━━━━━━━━━━━━━━━━━━━━━━━━━━━━━━━━\u001b[0m \u001b[32m385.8/385.8 kB\u001b[0m \u001b[31m21.2 MB/s\u001b[0m eta \u001b[36m0:00:00\u001b[0m\n",
            "\u001b[?25hDownloading jupyterlab_server-2.27.3-py3-none-any.whl (59 kB)\n",
            "\u001b[2K   \u001b[90m━━━━━━━━━━━━━━━━━━━━━━━━━━━━━━━━━━━━━━━━\u001b[0m \u001b[32m59.7/59.7 kB\u001b[0m \u001b[31m4.2 MB/s\u001b[0m eta \u001b[36m0:00:00\u001b[0m\n",
            "\u001b[?25hDownloading git_lfs-1.6-py2.py3-none-any.whl (5.6 kB)\n",
            "Downloading netCDF4-1.7.2-cp311-cp311-manylinux_2_17_x86_64.manylinux2014_x86_64.whl (9.3 MB)\n",
            "\u001b[2K   \u001b[90m━━━━━━━━━━━━━━━━━━━━━━━━━━━━━━━━━━━━━━━━\u001b[0m \u001b[32m9.3/9.3 MB\u001b[0m \u001b[31m63.2 MB/s\u001b[0m eta \u001b[36m0:00:00\u001b[0m\n",
            "\u001b[?25hDownloading json5-0.10.0-py3-none-any.whl (34 kB)\n",
            "Downloading jupyter_client-8.6.3-py3-none-any.whl (106 kB)\n",
            "\u001b[2K   \u001b[90m━━━━━━━━━━━━━━━━━━━━━━━━━━━━━━━━━━━━━━━━\u001b[0m \u001b[32m106.1/106.1 kB\u001b[0m \u001b[31m5.9 MB/s\u001b[0m eta \u001b[36m0:00:00\u001b[0m\n",
            "\u001b[?25hDownloading jupyter_events-0.12.0-py3-none-any.whl (19 kB)\n",
            "Downloading jupyter_server_terminals-0.5.3-py3-none-any.whl (13 kB)\n",
            "Downloading overrides-7.7.0-py3-none-any.whl (17 kB)\n",
            "Downloading cftime-1.6.4.post1-cp311-cp311-manylinux_2_17_x86_64.manylinux2014_x86_64.whl (1.4 MB)\n",
            "\u001b[2K   \u001b[90m━━━━━━━━━━━━━━━━━━━━━━━━━━━━━━━━━━━━━━━━\u001b[0m \u001b[32m1.4/1.4 MB\u001b[0m \u001b[31m44.8 MB/s\u001b[0m eta \u001b[36m0:00:00\u001b[0m\n",
            "\u001b[?25hDownloading jedi-0.19.2-py2.py3-none-any.whl (1.6 MB)\n",
            "\u001b[2K   \u001b[90m━━━━━━━━━━━━━━━━━━━━━━━━━━━━━━━━━━━━━━━━\u001b[0m \u001b[32m1.6/1.6 MB\u001b[0m \u001b[31m43.8 MB/s\u001b[0m eta \u001b[36m0:00:00\u001b[0m\n",
            "\u001b[?25hDownloading python_json_logger-3.3.0-py3-none-any.whl (15 kB)\n",
            "Downloading rfc3986_validator-0.1.1-py2.py3-none-any.whl (4.2 kB)\n",
            "Downloading rfc3339_validator-0.1.4-py2.py3-none-any.whl (3.5 kB)\n",
            "Downloading fqdn-1.5.1-py3-none-any.whl (9.1 kB)\n",
            "Downloading isoduration-20.11.0-py3-none-any.whl (11 kB)\n",
            "Downloading uri_template-1.3.0-py3-none-any.whl (11 kB)\n",
            "Downloading arrow-1.3.0-py3-none-any.whl (66 kB)\n",
            "\u001b[2K   \u001b[90m━━━━━━━━━━━━━━━━━━━━━━━━━━━━━━━━━━━━━━━━\u001b[0m \u001b[32m66.4/66.4 kB\u001b[0m \u001b[31m4.5 MB/s\u001b[0m eta \u001b[36m0:00:00\u001b[0m\n",
            "\u001b[?25hDownloading types_python_dateutil-2.9.0.20241206-py3-none-any.whl (14 kB)\n",
            "Building wheels for collected packages: topfarm, openmdao, pydoe2\n",
            "  Building wheel for topfarm (pyproject.toml) ... \u001b[?25l\u001b[?25hdone\n",
            "  Created wheel for topfarm: filename=topfarm-2.5.1.post2-py3-none-any.whl size=9377745 sha256=4730ab1a1965a412d4494599eb5d6e384fa5f803872b293d9c7f8a81eb15272d\n",
            "  Stored in directory: /tmp/pip-ephem-wheel-cache-eivh_eq9/wheels/4e/00/f2/e00bdc62b54c0b587eaf05d1d3f8efe2ef5a962495a4bdff9a\n",
            "  Building wheel for openmdao (pyproject.toml) ... \u001b[?25l\u001b[?25hdone\n",
            "  Created wheel for openmdao: filename=openmdao-3.38.0-py3-none-any.whl size=13265406 sha256=d32a82affa394cba13ff0d10c8b9fe6d5571678060baca1180604ef37ff9ae5b\n",
            "  Stored in directory: /root/.cache/pip/wheels/f0/e8/57/5e30138f57c1ae0571d953f2217db9cfd18e2da560e5ef13e6\n",
            "  Building wheel for pydoe2 (setup.py) ... \u001b[?25l\u001b[?25hdone\n",
            "  Created wheel for pydoe2: filename=pyDOE2-1.3.0-py3-none-any.whl size=25524 sha256=8ea7d4576b77a108cb88bed43ad4b2119f1fdbef7c573e27e755623a6b27dfe3\n",
            "  Stored in directory: /root/.cache/pip/wheels/56/11/60/a0b234151910cf9cff9fdc072f5d42e3c35157b649dbdff3ef\n",
            "Successfully built topfarm openmdao pydoe2\n",
            "Installing collected packages: git-lfs, uri-template, types-python-dateutil, rfc3986-validator, rfc3339-validator, python-json-logger, overrides, numpy-financial, json5, jedi, fqdn, cftime, async-lru, pydoe3, pydoe2, openmdao, netcdf4, jupyter-server-terminals, jupyter-client, arrow, isoduration, py-wake, jupyter-events, jupyter-server, jupyterlab-server, jupyter-lsp, jupyterlab, topfarm\n",
            "  Attempting uninstall: jupyter-client\n",
            "    Found existing installation: jupyter-client 6.1.12\n",
            "    Uninstalling jupyter-client-6.1.12:\n",
            "      Successfully uninstalled jupyter-client-6.1.12\n",
            "  Attempting uninstall: jupyter-server\n",
            "    Found existing installation: jupyter-server 1.16.0\n",
            "    Uninstalling jupyter-server-1.16.0:\n",
            "      Successfully uninstalled jupyter-server-1.16.0\n",
            "\u001b[31mERROR: pip's dependency resolver does not currently take into account all the packages that are installed. This behaviour is the source of the following dependency conflicts.\n",
            "notebook 6.5.7 requires jupyter-client<8,>=5.3.4, but you have jupyter-client 8.6.3 which is incompatible.\u001b[0m\u001b[31m\n",
            "\u001b[0mSuccessfully installed arrow-1.3.0 async-lru-2.0.5 cftime-1.6.4.post1 fqdn-1.5.1 git-lfs-1.6 isoduration-20.11.0 jedi-0.19.2 json5-0.10.0 jupyter-client-8.6.3 jupyter-events-0.12.0 jupyter-lsp-2.2.5 jupyter-server-2.15.0 jupyter-server-terminals-0.5.3 jupyterlab-4.3.6 jupyterlab-server-2.27.3 netcdf4-1.7.2 numpy-financial-1.0.0 openmdao-3.38.0 overrides-7.7.0 py-wake-2.6.10 pydoe2-1.3.0 pydoe3-1.0.4 python-json-logger-3.3.0 rfc3339-validator-0.1.4 rfc3986-validator-0.1.1 topfarm-2.5.1.post2 types-python-dateutil-2.9.0.20241206 uri-template-1.3.0\n"
          ]
        }
      ],
      "source": [
        "# Install TopFarm if needed\n",
        "import importlib\n",
        "if not importlib.util.find_spec(\"topfarm\"):\n",
        "    !pip install git+https://gitlab.windenergy.dtu.dk/TOPFARM/TopFarm2.git"
      ]
    },
    {
      "cell_type": "code",
      "execution_count": 2,
      "metadata": {
        "id": "Rxsu7g-0H8qQ",
        "outputId": "5e4f2512-ff16-431b-e9a1-cefd1fbe5c5d",
        "colab": {
          "base_uri": "https://localhost:8080/"
        }
      },
      "outputs": [
        {
          "output_type": "stream",
          "name": "stdout",
          "text": [
            "\u001b[33mDEPRECATION: git+https://gitlab.windenergy.dtu.dk/TOPFARM/edwin.git#egg=ed_win[interarray] contains an egg fragment with a non-PEP 508 name pip 25.0 will enforce this behaviour change. A possible replacement is to use the req @ url syntax, and remove the egg fragment. Discussion can be found at https://github.com/pypa/pip/issues/11617\u001b[0m\u001b[33m\n",
            "\u001b[0mCollecting ed_win (from ed_win[interarray])\n",
            "  Cloning https://gitlab.windenergy.dtu.dk/TOPFARM/edwin.git to /tmp/pip-install-3j6p57i0/ed-win_30ed33c4a42b4bc5b760f20d8b8c6e5c\n",
            "  Running command git clone --filter=blob:none --quiet https://gitlab.windenergy.dtu.dk/TOPFARM/edwin.git /tmp/pip-install-3j6p57i0/ed-win_30ed33c4a42b4bc5b760f20d8b8c6e5c\n",
            "  Resolved https://gitlab.windenergy.dtu.dk/TOPFARM/edwin.git to commit 517099b186a093556129aa75c968924861f9b9b1\n",
            "  Running command git submodule update --init --recursive -q\n",
            "  Preparing metadata (setup.py) ... \u001b[?25l\u001b[?25hdone\n",
            "Requirement already satisfied: networkx in /usr/local/lib/python3.11/dist-packages (from ed_win->ed_win[interarray]) (3.4.2)\n",
            "Requirement already satisfied: matplotlib in /usr/local/lib/python3.11/dist-packages (from ed_win->ed_win[interarray]) (3.10.0)\n",
            "Requirement already satisfied: shapely in /usr/local/lib/python3.11/dist-packages (from ed_win->ed_win[interarray]) (2.0.7)\n",
            "Requirement already satisfied: numpy in /usr/local/lib/python3.11/dist-packages (from ed_win->ed_win[interarray]) (2.0.2)\n",
            "Requirement already satisfied: xarray in /usr/local/lib/python3.11/dist-packages (from ed_win->ed_win[interarray]) (2025.1.2)\n",
            "Requirement already satisfied: scipy in /usr/local/lib/python3.11/dist-packages (from ed_win->ed_win[interarray]) (1.14.1)\n",
            "Collecting windIO (from ed_win->ed_win[interarray])\n",
            "  Downloading windIO-1.0-py3-none-any.whl.metadata (533 bytes)\n",
            "Requirement already satisfied: openpyxl in /usr/local/lib/python3.11/dist-packages (from ed_win->ed_win[interarray]) (3.1.5)\n",
            "Collecting pony (from ed_win->ed_win[interarray])\n",
            "  Downloading pony-0.7.19-py3-none-any.whl.metadata (2.8 kB)\n",
            "Requirement already satisfied: pyyaml in /usr/local/lib/python3.11/dist-packages (from ed_win->ed_win[interarray]) (6.0.2)\n",
            "Collecting utm (from ed_win->ed_win[interarray])\n",
            "  Downloading utm-0.8.1-py3-none-any.whl.metadata (5.2 kB)\n",
            "Requirement already satisfied: pyomo in /usr/local/lib/python3.11/dist-packages (from ed_win->ed_win[interarray]) (6.8.2)\n",
            "Collecting loguru (from ed_win->ed_win[interarray])\n",
            "  Downloading loguru-0.7.3-py3-none-any.whl.metadata (22 kB)\n",
            "Requirement already satisfied: numba in /usr/local/lib/python3.11/dist-packages (from ed_win->ed_win[interarray]) (0.60.0)\n",
            "Collecting ortools (from ed_win->ed_win[interarray])\n",
            "  Downloading ortools-9.12.4544-cp311-cp311-manylinux_2_27_x86_64.manylinux_2_28_x86_64.whl.metadata (3.3 kB)\n",
            "Collecting svg.py (from ed_win->ed_win[interarray])\n",
            "  Downloading svg_py-1.6.0-py3-none-any.whl.metadata (2.1 kB)\n",
            "Requirement already satisfied: contourpy>=1.0.1 in /usr/local/lib/python3.11/dist-packages (from matplotlib->ed_win->ed_win[interarray]) (1.3.1)\n",
            "Requirement already satisfied: cycler>=0.10 in /usr/local/lib/python3.11/dist-packages (from matplotlib->ed_win->ed_win[interarray]) (0.12.1)\n",
            "Requirement already satisfied: fonttools>=4.22.0 in /usr/local/lib/python3.11/dist-packages (from matplotlib->ed_win->ed_win[interarray]) (4.56.0)\n",
            "Requirement already satisfied: kiwisolver>=1.3.1 in /usr/local/lib/python3.11/dist-packages (from matplotlib->ed_win->ed_win[interarray]) (1.4.8)\n",
            "Requirement already satisfied: packaging>=20.0 in /usr/local/lib/python3.11/dist-packages (from matplotlib->ed_win->ed_win[interarray]) (24.2)\n",
            "Requirement already satisfied: pillow>=8 in /usr/local/lib/python3.11/dist-packages (from matplotlib->ed_win->ed_win[interarray]) (11.1.0)\n",
            "Requirement already satisfied: pyparsing>=2.3.1 in /usr/local/lib/python3.11/dist-packages (from matplotlib->ed_win->ed_win[interarray]) (3.2.1)\n",
            "Requirement already satisfied: python-dateutil>=2.7 in /usr/local/lib/python3.11/dist-packages (from matplotlib->ed_win->ed_win[interarray]) (2.8.2)\n",
            "Requirement already satisfied: llvmlite<0.44,>=0.43.0dev0 in /usr/local/lib/python3.11/dist-packages (from numba->ed_win->ed_win[interarray]) (0.43.0)\n",
            "Requirement already satisfied: et-xmlfile in /usr/local/lib/python3.11/dist-packages (from openpyxl->ed_win->ed_win[interarray]) (2.0.0)\n",
            "Collecting absl-py>=2.0.0 (from ortools->ed_win->ed_win[interarray])\n",
            "  Downloading absl_py-2.2.0-py3-none-any.whl.metadata (2.4 kB)\n",
            "Requirement already satisfied: pandas>=2.0.0 in /usr/local/lib/python3.11/dist-packages (from ortools->ed_win->ed_win[interarray]) (2.2.2)\n",
            "Requirement already satisfied: protobuf<5.30,>=5.29.3 in /usr/local/lib/python3.11/dist-packages (from ortools->ed_win->ed_win[interarray]) (5.29.3)\n",
            "Requirement already satisfied: immutabledict>=3.0.0 in /usr/local/lib/python3.11/dist-packages (from ortools->ed_win->ed_win[interarray]) (4.2.1)\n",
            "Requirement already satisfied: ply in /usr/local/lib/python3.11/dist-packages (from pyomo->ed_win->ed_win[interarray]) (3.11)\n",
            "Requirement already satisfied: jsonschema in /usr/local/lib/python3.11/dist-packages (from windIO->ed_win->ed_win[interarray]) (4.23.0)\n",
            "Requirement already satisfied: pytz>=2020.1 in /usr/local/lib/python3.11/dist-packages (from pandas>=2.0.0->ortools->ed_win->ed_win[interarray]) (2025.1)\n",
            "Requirement already satisfied: tzdata>=2022.7 in /usr/local/lib/python3.11/dist-packages (from pandas>=2.0.0->ortools->ed_win->ed_win[interarray]) (2025.1)\n",
            "Requirement already satisfied: six>=1.5 in /usr/local/lib/python3.11/dist-packages (from python-dateutil>=2.7->matplotlib->ed_win->ed_win[interarray]) (1.17.0)\n",
            "Requirement already satisfied: attrs>=22.2.0 in /usr/local/lib/python3.11/dist-packages (from jsonschema->windIO->ed_win->ed_win[interarray]) (25.3.0)\n",
            "Requirement already satisfied: jsonschema-specifications>=2023.03.6 in /usr/local/lib/python3.11/dist-packages (from jsonschema->windIO->ed_win->ed_win[interarray]) (2024.10.1)\n",
            "Requirement already satisfied: referencing>=0.28.4 in /usr/local/lib/python3.11/dist-packages (from jsonschema->windIO->ed_win->ed_win[interarray]) (0.36.2)\n",
            "Requirement already satisfied: rpds-py>=0.7.1 in /usr/local/lib/python3.11/dist-packages (from jsonschema->windIO->ed_win->ed_win[interarray]) (0.23.1)\n",
            "Requirement already satisfied: typing-extensions>=4.4.0 in /usr/local/lib/python3.11/dist-packages (from referencing>=0.28.4->jsonschema->windIO->ed_win->ed_win[interarray]) (4.12.2)\n",
            "Downloading loguru-0.7.3-py3-none-any.whl (61 kB)\n",
            "\u001b[2K   \u001b[90m━━━━━━━━━━━━━━━━━━━━━━━━━━━━━━━━━━━━━━━━\u001b[0m \u001b[32m61.6/61.6 kB\u001b[0m \u001b[31m2.8 MB/s\u001b[0m eta \u001b[36m0:00:00\u001b[0m\n",
            "\u001b[?25hDownloading ortools-9.12.4544-cp311-cp311-manylinux_2_27_x86_64.manylinux_2_28_x86_64.whl (24.9 MB)\n",
            "\u001b[2K   \u001b[90m━━━━━━━━━━━━━━━━━━━━━━━━━━━━━━━━━━━━━━━━\u001b[0m \u001b[32m24.9/24.9 MB\u001b[0m \u001b[31m53.9 MB/s\u001b[0m eta \u001b[36m0:00:00\u001b[0m\n",
            "\u001b[?25hDownloading pony-0.7.19-py3-none-any.whl (317 kB)\n",
            "\u001b[2K   \u001b[90m━━━━━━━━━━━━━━━━━━━━━━━━━━━━━━━━━━━━━━━━\u001b[0m \u001b[32m317.3/317.3 kB\u001b[0m \u001b[31m21.7 MB/s\u001b[0m eta \u001b[36m0:00:00\u001b[0m\n",
            "\u001b[?25hDownloading svg_py-1.6.0-py3-none-any.whl (13 kB)\n",
            "Downloading utm-0.8.1-py3-none-any.whl (8.6 kB)\n",
            "Downloading windIO-1.0-py3-none-any.whl (9.9 kB)\n",
            "Downloading absl_py-2.2.0-py3-none-any.whl (276 kB)\n",
            "\u001b[2K   \u001b[90m━━━━━━━━━━━━━━━━━━━━━━━━━━━━━━━━━━━━━━━━\u001b[0m \u001b[32m277.0/277.0 kB\u001b[0m \u001b[31m17.5 MB/s\u001b[0m eta \u001b[36m0:00:00\u001b[0m\n",
            "\u001b[?25hBuilding wheels for collected packages: ed_win\n",
            "  Building wheel for ed_win (setup.py) ... \u001b[?25l\u001b[?25hdone\n",
            "  Created wheel for ed_win: filename=ed_win-1.1.0-py3-none-any.whl size=265674 sha256=1c9289690b613948c220464949308855806d664bfcf262f0379cf022de10e8d2\n",
            "  Stored in directory: /tmp/pip-ephem-wheel-cache-wd2949xy/wheels/bc/ea/b6/b70d8e62956a2409861bbe10e92ed58cb22b35caaa9ca20551\n",
            "Successfully built ed_win\n",
            "Installing collected packages: pony, utm, svg.py, loguru, absl-py, ortools, windIO, ed_win\n",
            "  Attempting uninstall: absl-py\n",
            "    Found existing installation: absl-py 1.4.0\n",
            "    Uninstalling absl-py-1.4.0:\n",
            "      Successfully uninstalled absl-py-1.4.0\n",
            "Successfully installed absl-py-2.2.0 ed_win-1.1.0 loguru-0.7.3 ortools-9.12.4544 pony-0.7.19 svg.py-1.6.0 utm-0.8.1 windIO-1.0\n"
          ]
        }
      ],
      "source": [
        "# Install EDWIN if needed\n",
        "import importlib\n",
        "if not importlib.util.find_spec(\"ed_win\"):\n",
        "    !pip install git+https://gitlab.windenergy.dtu.dk/TOPFARM/edwin.git#egg=ed_win[interarray]"
      ]
    },
    {
      "cell_type": "markdown",
      "metadata": {
        "id": "0bQwgiFNH8qR"
      },
      "source": [
        "### Import"
      ]
    },
    {
      "cell_type": "code",
      "execution_count": 3,
      "metadata": {
        "id": "OnInNM_iH8qS"
      },
      "outputs": [],
      "source": [
        "import numpy as np\n",
        "from scipy.interpolate import RegularGridInterpolator\n",
        "import matplotlib.pyplot as plt\n",
        "\n",
        "from topfarm.constraint_components.spacing import SpacingConstraint\n",
        "from topfarm.constraint_components.boundary import XYBoundaryConstraint\n",
        "from topfarm.easy_drivers import EasyScipyOptimizeDriver\n",
        "from topfarm.cost_models.cost_model_wrappers import CostModelComponent\n",
        "from topfarm._topfarm import TopFarmProblem, TopFarmGroup\n",
        "from topfarm.cost_models.py_wake_wrapper import PyWakeAEPCostModelComponent\n",
        "from topfarm.plotting import XYPlotComp\n",
        "from topfarm.utils import plot_list_recorder\n",
        "from topfarm.cost_models.economic_models.dtu_wind_cm_main import economic_evaluation\n",
        "\n",
        "from py_wake.examples.data.iea37._iea37 import IEA37_WindTurbines\n",
        "from py_wake import BastankhahGaussian\n",
        "from py_wake.examples.data.hornsrev1 import Hornsrev1Site\n",
        "# from py_wake.examples.data.nysted import nysted\n",
        "\n",
        "from ed_win.wind_farm_network import WindFarmNetwork"
      ]
    },
    {
      "cell_type": "code",
      "source": [
        "from py_wake import np\n",
        "from py_wake.site._site import UniformWeibullSite\n",
        "from py_wake.wind_turbines import WindTurbine\n",
        "from py_wake.wind_turbines.power_ct_functions import PowerCtTabular\n",
        "\n",
        "wt_x = [0.0, -1.23, -2.45, -3.68, -4.9, -6.13, -7.35, -8.58, -9.8,\n",
        "        852.36, 851.6, 850.83, 850.07, 849.3, 848.54, 847.77, 847.01, 846.24,\n",
        "        1704.72, 1704.42, 1704.11, 1703.81, 1703.5, 1703.2, 1702.89, 1702.59, 1702.28,\n",
        "        2557.08, 2557.24, 2557.4, 2557.57, 2557.73, 2557.89, 2558.06, 2558.22, 2558.38,\n",
        "        3409.44, 3410.07, 3410.7, 3411.33, 3411.96, 3412.59, 3413.22, 3413.85, 3414.48,\n",
        "        4261.8, 4262.91, 4264.02, 4265.13, 4266.24, 4267.35, 4268.46, 4269.57, 4270.68,\n",
        "        5114.16, 5115.74, 5117.33, 5118.91, 5120.5, 5122.08, 5123.67, 5125.25, 5126.84,\n",
        "        5966.52, 5968.57, 5970.62, 5972.67, 5974.72, 5976.77, 5978.82, 5980.87, 5982.92]\n",
        "\n",
        "wt_y = [0.0, 482.04, 964.08, 1446.11, 1928.15, 2410.19, 2892.23, 3374.27, 3856.3,\n",
        "        -132.58, 336.89, 806.36, 1275.82, 1745.29, 2214.76, 2684.23, 3153.7, 3623.17,\n",
        "        -265.15, 191.75, 648.65, 1105.55, 1562.45, 2019.35, 2476.25, 2933.15, 3390.05,\n",
        "        -397.73, 46.61, 490.94, 935.28, 1379.61, 1823.95, 2268.29, 2712.62, 3156.96,\n",
        "        -530.31, -98.54, 333.23, 765.01, 1196.78, 1628.55, 2060.32, 2492.09, 2923.86,\n",
        "        -662.89, -243.7, 175.49, 594.67, 1013.86, 1433.05, 1852.23, 2271.42, 2690.61,\n",
        "        -795.47, -388.86, 17.74, 424.34, 830.94, 1237.55, 1644.15, 2050.75, 2457.35,\n",
        "        -928.05, -534.01, -139.01, 255.99, 650.99, 1045.99, 1440.99, 1835.99, 2230.99,\n",
        "        -1060.63, -679.17, -297.76, 83.65, 465.06, 846.47, 1227.88, 1609.29, 1990.7]\n",
        "\n",
        "wt9_x = np.array(wt_x)[[0, 1, 2, 8, 9, 10, 16, 17, 18]]\n",
        "wt9_y = np.array(wt_y)[[0, 1, 2, 8, 9, 10, 16, 17, 18]]\n",
        "i16 = [0, 1, 2, 3, 8, 9, 10, 11, 16, 17, 18, 19, 24, 25, 26, 27]\n",
        "wt16_x = np.array(wt_x)[i16]\n",
        "wt16_y = np.array(wt_y)[i16]\n",
        "\n",
        "\n",
        "power_curve = np.array([[3.0, 0.0],\n",
        "                        [4.0, 66.6],\n",
        "                        [5.0, 154.0],\n",
        "                        [6.0, 282.0],\n",
        "                        [7.0, 460.0],\n",
        "                        [8.0, 696.0],\n",
        "                        [9.0, 996.0],\n",
        "                        [10.0, 1341.0],\n",
        "                        [11.0, 1661.0],\n",
        "                        [12.0, 1866.0],\n",
        "                        [13.0, 1958.0],\n",
        "                        [14.0, 1988.0],\n",
        "                        [15.0, 1997.0],\n",
        "                        [16.0, 1999.0],\n",
        "                        [17.0, 2000.0],\n",
        "                        [18.0, 2000.0],\n",
        "                        [19.0, 2000.0],\n",
        "                        [20.0, 2000.0],\n",
        "                        [21.0, 2000.0],\n",
        "                        [22.0, 2000.0],\n",
        "                        [23.0, 2000.0],\n",
        "                        [24.0, 2000.0],\n",
        "                        [25.0, 2000.0]]) * [1, 1000]\n",
        "ct_curve = np.array([[3.0, 0.0],\n",
        "                     [4.0, 0.818],\n",
        "                     [5.0, 0.806],\n",
        "                     [6.0, 0.804],\n",
        "                     [7.0, 0.805],\n",
        "                     [8.0, 0.806],\n",
        "                     [9.0, 0.807],\n",
        "                     [10.0, 0.793],\n",
        "                     [11.0, 0.739],\n",
        "                     [12.0, 0.709],\n",
        "                     [13.0, 0.409],\n",
        "                     [14.0, 0.314],\n",
        "                     [15.0, 0.249],\n",
        "                     [16.0, 0.202],\n",
        "                     [17.0, 0.167],\n",
        "                     [18.0, 0.14],\n",
        "                     [19.0, 0.119],\n",
        "                     [20.0, 0.102],\n",
        "                     [21.0, 0.088],\n",
        "                     [22.0, 0.077],\n",
        "                     [23.0, 0.067],\n",
        "                     [24.0, 0.06],\n",
        "                     [25.0, 0.053]])\n",
        "\n",
        "\n",
        "class V80(WindTurbine):\n",
        "    def __init__(self, method='linear'):\n",
        "        \"\"\"\n",
        "        Parameters\n",
        "        ----------\n",
        "        method : {'linear', 'pchip'}\n",
        "            linear(fast) or pchip(smooth and gradient friendly) interpolation\n",
        "        \"\"\"\n",
        "        WindTurbine.__init__(self, name='V80', diameter=80, hub_height=70,\n",
        "                             powerCtFunction=PowerCtTabular(power_curve[:, 0], power_curve[:, 1], 'w',\n",
        "                                                            ct_curve[:, 1], method=method))\n",
        "\n",
        "\n",
        "HornsrevV80 = V80\n",
        "\n",
        "\n",
        "class nysted(UniformWeibullSite):\n",
        "    def __init__(self, ti=.1, shear=None):\n",
        "        f = [3.597152, 3.948682, 5.167395, 7.000154, 8.364547, 6.43485,\n",
        "             8.643194, 11.77051, 15.15757, 14.73792, 10.01205, 5.165975]\n",
        "        a = [9.176929, 9.782334, 9.531809, 9.909545, 10.04269, 9.593921,\n",
        "             9.584007, 10.51499, 11.39895, 11.68746, 11.63732, 10.08803]\n",
        "        k = [2.392578, 2.447266, 2.412109, 2.591797, 2.755859, 2.595703,\n",
        "             2.583984, 2.548828, 2.470703, 2.607422, 2.626953, 2.326172]\n",
        "        UniformWeibullSite.__init__(self, np.array(f) / np.sum(f), a, k, ti=ti, shear=shear)\n",
        "        self.initial_position = np.array([wt_x, wt_y]).T\n",
        "\n",
        "\n",
        "def main():\n",
        "    wt = V80()\n",
        "    print('Diameter', wt.diameter())\n",
        "    print('Hub height', wt.hub_height())\n",
        "\n",
        "    import matplotlib.pyplot as plt\n",
        "    ws = np.linspace(3, 20, 100)\n",
        "    plt.plot(ws, wt.power(ws) * 1e-3, label='Power')\n",
        "    c = plt.plot([], [], label='Ct')[0].get_color()\n",
        "    plt.ylabel('Power [kW]')\n",
        "    ax = plt.gca().twinx()\n",
        "    ax.plot(ws, wt.ct(ws), color=c)\n",
        "    ax.set_ylabel('Ct')\n",
        "    plt.xlabel('Wind speed [m/s]')\n",
        "    plt.gcf().axes[0].legend(loc=1)\n",
        "    plt.show()\n",
        "\n",
        "\n",
        "if __name__ == '__main__':\n",
        "    main()\n"
      ],
      "metadata": {
        "id": "oOissJ5ig9vh",
        "outputId": "97f0b95d-048d-4924-f0a2-e055195354c4",
        "colab": {
          "base_uri": "https://localhost:8080/",
          "height": 996
        }
      },
      "execution_count": 7,
      "outputs": [
        {
          "output_type": "stream",
          "name": "stdout",
          "text": [
            "Diameter 80.0\n",
            "Hub height 70.0\n"
          ]
        },
        {
          "output_type": "display_data",
          "data": {
            "text/plain": [
              "<Figure size 1228.8x921.6 with 2 Axes>"
            ],
            "image/png": "[encoded data removed]"
          },
          "metadata": {}
        }
      ]
    },
    {
      "cell_type": "markdown",
      "metadata": {
        "id": "EaojilbMH8qT"
      },
      "source": [
        "### Site"
      ]
    },
    {
      "cell_type": "code",
      "execution_count": 8,
      "metadata": {
        "id": "cVOspQ0cH8qW",
        "outputId": "76c0b58d-2d14-49e1-88c4-dee5ee7efd42",
        "colab": {
          "base_uri": "https://localhost:8080/",
          "height": 329
        }
      },
      "outputs": [
        {
          "output_type": "error",
          "ename": "ValueError",
          "evalue": "setting an array element with a sequence. The requested array has an inhomogeneous shape after 1 dimensions. The detected shape was (2,) + inhomogeneous part.",
          "traceback": [
            "\u001b[0;31m---------------------------------------------------------------------------\u001b[0m",
            "\u001b[0;31mValueError\u001b[0m                                Traceback (most recent call last)",
            "\u001b[0;32m<ipython-input-8-077cae0e74f4>\u001b[0m in \u001b[0;36m<cell line: 0>\u001b[0;34m()\u001b[0m\n\u001b[1;32m      6\u001b[0m \u001b[0mdrivers\u001b[0m \u001b[0;34m=\u001b[0m \u001b[0;34m[\u001b[0m\u001b[0mEasyScipyOptimizeDriver\u001b[0m\u001b[0;34m(\u001b[0m\u001b[0mmaxiter\u001b[0m\u001b[0;34m=\u001b[0m\u001b[0;36m10\u001b[0m\u001b[0;34m)\u001b[0m\u001b[0;34m]\u001b[0m\u001b[0;34m\u001b[0m\u001b[0;34m\u001b[0m\u001b[0m\n\u001b[1;32m      7\u001b[0m \u001b[0mwindTurbines\u001b[0m \u001b[0;34m=\u001b[0m \u001b[0mIEA37_WindTurbines\u001b[0m\u001b[0;34m(\u001b[0m\u001b[0;34m)\u001b[0m\u001b[0;34m\u001b[0m\u001b[0;34m\u001b[0m\u001b[0m\n\u001b[0;32m----> 8\u001b[0;31m \u001b[0msite\u001b[0m \u001b[0;34m=\u001b[0m \u001b[0mnysted\u001b[0m\u001b[0;34m(\u001b[0m\u001b[0;34m)\u001b[0m\u001b[0;34m\u001b[0m\u001b[0;34m\u001b[0m\u001b[0m\n\u001b[0m\u001b[1;32m      9\u001b[0m \u001b[0mwfm\u001b[0m \u001b[0;34m=\u001b[0m \u001b[0mBastankhahGaussian\u001b[0m\u001b[0;34m(\u001b[0m\u001b[0msite\u001b[0m\u001b[0;34m,\u001b[0m \u001b[0mwindTurbines\u001b[0m\u001b[0;34m)\u001b[0m\u001b[0;34m\u001b[0m\u001b[0;34m\u001b[0m\u001b[0m\n",
            "\u001b[0;32m<ipython-input-7-e66a44c85fc4>\u001b[0m in \u001b[0;36m__init__\u001b[0;34m(self, ti, shear)\u001b[0m\n\u001b[1;32m    103\u001b[0m              2.583984, 2.548828, 2.470703, 2.607422, 2.626953, 2.326172]\n\u001b[1;32m    104\u001b[0m         \u001b[0mUniformWeibullSite\u001b[0m\u001b[0;34m.\u001b[0m\u001b[0m__init__\u001b[0m\u001b[0;34m(\u001b[0m\u001b[0mself\u001b[0m\u001b[0;34m,\u001b[0m \u001b[0mnp\u001b[0m\u001b[0;34m.\u001b[0m\u001b[0marray\u001b[0m\u001b[0;34m(\u001b[0m\u001b[0mf\u001b[0m\u001b[0;34m)\u001b[0m \u001b[0;34m/\u001b[0m \u001b[0mnp\u001b[0m\u001b[0;34m.\u001b[0m\u001b[0msum\u001b[0m\u001b[0;34m(\u001b[0m\u001b[0mf\u001b[0m\u001b[0;34m)\u001b[0m\u001b[0;34m,\u001b[0m \u001b[0ma\u001b[0m\u001b[0;34m,\u001b[0m \u001b[0mk\u001b[0m\u001b[0;34m,\u001b[0m \u001b[0mti\u001b[0m\u001b[0;34m=\u001b[0m\u001b[0mti\u001b[0m\u001b[0;34m,\u001b[0m \u001b[0mshear\u001b[0m\u001b[0;34m=\u001b[0m\u001b[0mshear\u001b[0m\u001b[0;34m)\u001b[0m\u001b[0;34m\u001b[0m\u001b[0;34m\u001b[0m\u001b[0m\n\u001b[0;32m--> 105\u001b[0;31m         \u001b[0mself\u001b[0m\u001b[0;34m.\u001b[0m\u001b[0minitial_position\u001b[0m \u001b[0;34m=\u001b[0m \u001b[0mnp\u001b[0m\u001b[0;34m.\u001b[0m\u001b[0marray\u001b[0m\u001b[0;34m(\u001b[0m\u001b[0;34m[\u001b[0m\u001b[0mwt_x\u001b[0m\u001b[0;34m,\u001b[0m \u001b[0mwt_y\u001b[0m\u001b[0;34m]\u001b[0m\u001b[0;34m)\u001b[0m\u001b[0;34m.\u001b[0m\u001b[0mT\u001b[0m\u001b[0;34m\u001b[0m\u001b[0;34m\u001b[0m\u001b[0m\n\u001b[0m\u001b[1;32m    106\u001b[0m \u001b[0;34m\u001b[0m\u001b[0m\n\u001b[1;32m    107\u001b[0m \u001b[0;34m\u001b[0m\u001b[0m\n",
            "\u001b[0;31mValueError\u001b[0m: setting an array element with a sequence. The requested array has an inhomogeneous shape after 1 dimensions. The detected shape was (2,) + inhomogeneous part."
          ]
        }
      ],
      "source": [
        "n_wt = 72\n",
        "initial = np.asarray([np.random.random(30)*6000, np.random.random(30)*-10000]).T\n",
        "x_init = initial[:,0]\n",
        "y_init = initial[:,1]\n",
        "boundary = np.array([(0, 0), (-9.8, 3856.3), (5956.7, 2798.0), (5966.5, -1060.6)])  # turbine boundaries\n",
        "drivers = [EasyScipyOptimizeDriver(maxiter=10)]\n",
        "windTurbines = IEA37_WindTurbines()\n",
        "site = nysted()\n",
        "wfm = BastankhahGaussian(site, windTurbines)\n"
      ]
    },
    {
      "cell_type": "markdown",
      "metadata": {
        "id": "7rOeGFeFH8qX"
      },
      "source": [
        "### Bathymetry"
      ]
    },
    {
      "cell_type": "code",
      "execution_count": null,
      "metadata": {
        "id": "jl_GMN2iH8qY"
      },
      "outputs": [],
      "source": [
        "sigma = 3000.0\n",
        "mu = 0.0\n",
        "\n",
        "x_peak_1 = 1000\n",
        "y_peak_1 = -1000\n",
        "x_peak_2 = 4000\n",
        "y_peak_2 = -8000\n",
        "x1, y1 = np.meshgrid(np.linspace(0 - x_peak_1, 6000- x_peak_1, 100), np.linspace(-10000 - y_peak_1, 0 - y_peak_1, 100))\n",
        "d1 = np.sqrt(x1*x1 + y1*y1)\n",
        "g1 = np.exp(-((d1 - mu)**2 / (2.0 * sigma**2)))\n",
        "x2, y2 = np.meshgrid(np.linspace(0 - x_peak_2, 6000- x_peak_2, 100), np.linspace(-10000 - y_peak_2, 0 - y_peak_2, 100))\n",
        "d2 = np.sqrt(x2*x2 + y2*y2)\n",
        "g2 = np.exp(-((d2 - mu)**2 / (2.0 * sigma**2)))\n",
        "g = 5 * g1 - 8 * g2 - 30\n",
        "\n",
        "plt.imshow(g, extent=(-1000, 7000, -11000, 1000), origin='lower', cmap='viridis')\n",
        "plt.colorbar()\n",
        "plt.title('2D Gaussian Function')\n",
        "plt.show()\n",
        "\n",
        "x = np.linspace(-1000, 7000, 100)\n",
        "y = np.linspace(-11000, 1000, 100)\n",
        "\n",
        "f = RegularGridInterpolator((x, y), g)"
      ]
    },
    {
      "cell_type": "markdown",
      "metadata": {
        "id": "PuvSRG-KH8qZ"
      },
      "source": [
        "### Cables"
      ]
    },
    {
      "cell_type": "code",
      "execution_count": null,
      "metadata": {
        "id": "aw_K7q13H8qa"
      },
      "outputs": [],
      "source": [
        "x_ss_init = x_init.mean()\n",
        "y_ss_init = y_init.mean()\n",
        "turbines_pos=np.asarray([x_init, y_init]).T\n",
        "substations_pos = np.asarray([[x_ss_init], [y_ss_init]]).T\n",
        "\n",
        "cables = np.array([[500, 3, 100], [800, 5, 150], [1000, 10, 250]])  # Here you set up cables [<cable cross section>, <number of turbines can be connected>, <price in € per meter>]\n",
        "\n",
        "wfn = WindFarmNetwork(turbines_pos=turbines_pos, substations_pos=substations_pos, cables=cables)\n",
        "G = wfn.optimize(turbines_pos)\n",
        "cable_cost_ref = G.size(weight=\"cost\")  # euro\n",
        "cable_length_ref = G.size(weight=\"length\")  # m\n",
        "cost_per_length_ref = cable_cost_ref / cable_length_ref # euro / m\n",
        "\n",
        "G.plot()"
      ]
    },
    {
      "cell_type": "markdown",
      "metadata": {
        "id": "mDsYzUztH8qb"
      },
      "source": [
        "### Economy"
      ]
    },
    {
      "cell_type": "code",
      "execution_count": null,
      "metadata": {
        "id": "u8wx1U9EH8qb"
      },
      "outputs": [],
      "source": [
        "Drotor_vector = [windTurbines.diameter()] * n_wt\n",
        "power_rated_vector = [float(windTurbines.power(20))*1e-6] * n_wt\n",
        "hub_height_vector = [windTurbines.hub_height()] * n_wt\n",
        "\n",
        "# add additional cost model inputs for shore distance, energy price, project lifetime, rated rotor speed and water depth\n",
        "distance_from_shore = 30         # [km]\n",
        "energy_price = 0.1               # [Euro/kWh] What we get per kWh\n",
        "project_duration = 25            # [years]\n",
        "rated_rpm_array = [12] * n_wt    # [rpm]\n",
        "simres = wfm(x_init, y_init)\n",
        "aep = simres.aep().values.sum()\n",
        "CF = aep / (windTurbines.power(20)*1e-9 * 24*365*n_wt)\n",
        "\n",
        "eco_eval = economic_evaluation(distance_from_shore, energy_price, project_duration)\n",
        "npv_ref = eco_eval.calculate_npv(rated_rpm_array, Drotor_vector, power_rated_vector, hub_height_vector, 30, aep/n_wt * np.ones(n_wt)*10**6, cabling_cost=cable_cost_ref)"
      ]
    },
    {
      "cell_type": "markdown",
      "metadata": {
        "id": "MMDHX2SgH8qc"
      },
      "source": [
        "### Python Functions"
      ]
    },
    {
      "cell_type": "code",
      "execution_count": null,
      "metadata": {
        "id": "D3TyBCQRH8qc"
      },
      "outputs": [],
      "source": [
        "# Water Depth\n",
        "def water_depth_func(x, y, **kwargs):\n",
        "    xnew, ynew = np.meshgrid(x, y)\n",
        "    points = np.array([xnew.flatten(), ynew.flatten()]).T\n",
        "    return - np.diag(f(points).reshape(n_wt, n_wt).T)\n",
        "\n",
        "# Cables\n",
        "def cable_func(x, y, x_substation, y_substation, **kwargs):\n",
        "    G = wfn.optimize(turbines_pos= np.asarray([x, y]).T, substations_pos=np.asarray([[float(x_substation[0])], [float(y_substation[0])]]).T)\n",
        "    return G.size(weight=\"cost\"), {'cabling_length': G.size(weight=\"length\")}\n",
        "\n",
        "# Economy\n",
        "def npv_func(AEP, water_depth, cabling_cost, **kwargs):\n",
        "    eco_eval.calculate_npv(rated_rpm_array, Drotor_vector, power_rated_vector, hub_height_vector, water_depth, AEP/n_wt * np.ones(n_wt)*10**6, cabling_cost=cabling_cost)\n",
        "    eco_eval.calculate_irr(rated_rpm_array, Drotor_vector, power_rated_vector, hub_height_vector, water_depth, AEP/n_wt * np.ones(n_wt)*10**6, cabling_cost=cabling_cost)\n",
        "    CAPEX = eco_eval.project_costs_sums[\"CAPEX\"]\n",
        "    OPEX = eco_eval.project_costs_sums[\"OPEX\"]\n",
        "    return eco_eval.NPV, {'irr': eco_eval.IRR,\n",
        "                          'OPEX': OPEX,\n",
        "                          'CAPEX': CAPEX,}\n"
      ]
    },
    {
      "cell_type": "markdown",
      "metadata": {
        "id": "69wimCDnH8qd"
      },
      "source": [
        "### Components"
      ]
    },
    {
      "cell_type": "code",
      "execution_count": null,
      "metadata": {
        "id": "dInlDCLwH8qd"
      },
      "outputs": [],
      "source": [
        "# Water Depth\n",
        "water_depth_component = CostModelComponent(input_keys=[('x', x_init),('y', y_init)],\n",
        "                                          n_wt=n_wt,\n",
        "                                          cost_function=water_depth_func,\n",
        "                                          objective=False,\n",
        "                                          output_keys=[('water_depth', np.zeros(n_wt))])\n",
        "\n",
        "# Cables\n",
        "cable_component = CostModelComponent(input_keys=[('x', x_init),('y', y_init), ('x_substation', x_ss_init), ('y_substation', y_ss_init)],\n",
        "                                     n_wt=n_wt,\n",
        "                                     cost_function=cable_func,\n",
        "                                     objective=False,\n",
        "                                     output_keys=[('cabling_cost', 0)],\n",
        "                                     additional_output=[('cabling_length', 0)])\n",
        "\n",
        "# Economy\n",
        "npv_comp = CostModelComponent(input_keys=[('AEP', 0), ('water_depth', 30*np.ones(n_wt)), ('cabling_cost', 100000)],\n",
        "                              n_wt=n_wt,\n",
        "                              cost_function=npv_func,\n",
        "                              objective=True,\n",
        "                              maximize=True,\n",
        "                              output_keys=[('npv', 0)],\n",
        "                              additional_output=[('irr', 0),\n",
        "                                                 ('CAPEX', 0),\n",
        "                                                 ('OPEX', 0)])\n",
        "\n",
        "# AEP\n",
        "aep_comp = PyWakeAEPCostModelComponent(wfm, n_wt, objective=False)"
      ]
    },
    {
      "cell_type": "markdown",
      "metadata": {
        "id": "1yublvCHH8qe"
      },
      "source": [
        "### Problem Assembly"
      ]
    },
    {
      "cell_type": "code",
      "execution_count": null,
      "metadata": {
        "id": "jFqDkt9pH8qe"
      },
      "outputs": [],
      "source": [
        "cost_comp = TopFarmGroup([PyWakeAEPCostModelComponent(wfm, n_wt, objective=False), water_depth_component, cable_component, npv_comp])\n",
        "\n",
        "\n",
        "tf = TopFarmProblem(\n",
        "    design_vars=dict(zip('xy', initial.T), x_substation=x_ss_init, y_substation=y_ss_init),\n",
        "    cost_comp=cost_comp,\n",
        "    constraints=[XYBoundaryConstraint(boundary),\n",
        "                 SpacingConstraint(500)\n",
        "                 ],\n",
        "    driver=drivers[0],\n",
        "    plot_comp=XYPlotComp()\n",
        ")\n"
      ]
    },
    {
      "cell_type": "markdown",
      "metadata": {
        "id": "XgmTM642H8qe"
      },
      "source": [
        "### Optimize"
      ]
    },
    {
      "cell_type": "code",
      "execution_count": null,
      "metadata": {
        "id": "DTuHz5YwH8qe"
      },
      "outputs": [],
      "source": [
        "cost, _, recorder = tf.optimize()\n"
      ]
    },
    {
      "cell_type": "markdown",
      "metadata": {
        "id": "RihAKZ2wH8qf"
      },
      "source": [
        "### Plot"
      ]
    },
    {
      "cell_type": "code",
      "execution_count": null,
      "metadata": {
        "id": "vLrJWPtFH8qf"
      },
      "outputs": [],
      "source": [
        "plot_list_recorder(recorder)"
      ]
    },
    {
      "cell_type": "code",
      "execution_count": null,
      "metadata": {
        "id": "B-nRMn75H8qf"
      },
      "outputs": [],
      "source": [
        "x_opt = recorder['x'][-1]\n",
        "y_opt = recorder['y'][-1]\n",
        "x_sub_opt = recorder['x_substation'][-1]\n",
        "y_sub_opt = recorder['y_substation'][-1]\n",
        "G = wfn.optimize(np.asarray([x_opt, y_opt]).T,\n",
        "                 substations_pos=np.asarray([[float(x_sub_opt)], [float(y_sub_opt)]]).T,\n",
        "                 )\n",
        "G.plot()\n"
      ]
    },
    {
      "cell_type": "code",
      "execution_count": null,
      "metadata": {
        "id": "H1Ywg8p5H8qf"
      },
      "outputs": [],
      "source": []
    }
  ],
  "metadata": {
    "language_info": {
      "name": "python"
    },
    "toc": {
      "base_numbering": 1,
      "nav_menu": {},
      "number_sections": true,
      "sideBar": true,
      "skip_h1_title": false,
      "title_cell": "Table of Contents",
      "title_sidebar": "Contents",
      "toc_cell": false,
      "toc_position": {},
      "toc_section_display": true,
      "toc_window_display": true
    },
    "colab": {
      "provenance": [],
      "include_colab_link": true
    },
    "kernelspec": {
      "name": "python3",
      "display_name": "Python 3"
    }
  },
  "nbformat": 4,
  "nbformat_minor": 0
}