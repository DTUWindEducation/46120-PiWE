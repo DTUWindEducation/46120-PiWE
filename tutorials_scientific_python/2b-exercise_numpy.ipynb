{
 "cells": [
  {
   "cell_type": "markdown",
   "metadata": {},
   "source": [
    "# NumPy Exercise: Correlated Gaussian Random Variables"
   ]
  },
  {
   "cell_type": "markdown",
   "metadata": {},
   "source": [
    "In many situations, we need to have a series of correlated Gaussian random variables, which can then be transformed into other distributions of interest (uniform, lognormal, etc.). Let's see how to do that with NumPy in Python.\n",
    "\n",
    "### Given:  \n",
    "\n",
    "|Variable | Value | Description |\n",
    "| ---: | :---: | :--- |\n",
    "|`n_real` | `1E6` | number of realizations|\n",
    "|`n_vars` | 3 | number of variables to correlate|\n",
    "|`cov` | `[[ 1. ,  0.2,  0.4], [ 0.2,  0.8,  0.3], [ 0.4,  0.3,  1.1]]` | covariance matrix|\n",
    "\n",
    "### Theory\n",
    "\n",
    "The procedure for generating correlated Gaussian is as follows:  \n",
    "1. Sample `[n_vars x n_real]` (uncorrelated) normal random variables\n",
    "2. Calculate `chol_mat`, the Cholesky decomposition of the covariance matrix\n",
    "3. Matrix-multiply your random variables with `chol_mat` to produce a `[n_vars x n_real]` array of correlated Gaussian variables\n",
    "\n",
    "### Exercise\n",
    "\n",
    "Do the following:  \n",
    "1. Fill in the blank cells below so that the code follows the theory outlined above.\n",
    "2. Calculate the variances of the three samples of random variables. Does it match the diagonal of the covariance matrix?\n",
    "3. Calculate the correlation coefficient between the first and second random samples. Does it match `cov[0, 1]`?\n",
    "\n",
    "### Hints\n",
    "\n",
    "- In the arrays of random variables, each row `i` corresponds to a *sample* of random variable `i` (just FYI).\n",
    "- Google is your friend :)"
   ]
  },
  {
   "cell_type": "code",
   "execution_count": 1,
   "metadata": {},
   "outputs": [],
   "source": [
    "import numpy as np   # import any needed modules here"
   ]
  },
  {
   "cell_type": "code",
   "execution_count": 3,
   "metadata": {},
   "outputs": [],
   "source": [
    "n_real = 1000  # Number of realizations (samples)\n",
    "n_vars = 3  # Number of random variables\n",
    "\n",
    "# Covariance matrix (must be symmetric & positive semi-definite)\n",
    "cov = np.array([[1.0, 0.5, 0.3], \n",
    "                [0.5, 1.0, 0.2], \n",
    "                [0.3, 0.2, 1.0]])\n"
   ]
  },
  {
   "cell_type": "code",
   "execution_count": 5,
   "metadata": {},
   "outputs": [],
   "source": [
    "# Generate uncorrelated (unc) normal random variables\n",
    "unc_vars = np.random.randn(n_vars, n_real)  # Shape: (3, 1000)\n"
   ]
  },
  {
   "cell_type": "code",
   "execution_count": 7,
   "metadata": {},
   "outputs": [],
   "source": [
    "# Compute Cholesky decomposition of the covariance matrix\n",
    "chol_mat = np.linalg.cholesky(cov)\n"
   ]
  },
  {
   "cell_type": "code",
   "execution_count": 9,
   "metadata": {},
   "outputs": [
    {
     "name": "stdout",
     "output_type": "stream",
     "text": [
      "Uncorrelated Variables Shape: (3, 1000)\n",
      "Correlated Variables Shape: (3, 1000)\n"
     ]
    }
   ],
   "source": [
    "# Generate correlated random variables using Cholesky transformation\n",
    "cor_vars = chol_mat @ unc_vars  # Matrix multiplication\n",
    "\n",
    "# Print shapes to verify\n",
    "print(\"Uncorrelated Variables Shape:\", unc_vars.shape)\n",
    "print(\"Correlated Variables Shape:\", cor_vars.shape)\n"
   ]
  },
  {
   "cell_type": "code",
   "execution_count": 11,
   "metadata": {},
   "outputs": [
    {
     "name": "stdout",
     "output_type": "stream",
     "text": [
      "Variances of correlated random variables: [0.96836262 1.04839141 0.97561479]\n"
     ]
    }
   ],
   "source": [
    "# Calculate variances for each random variable in cor_vars\n",
    "variances = np.var(cor_vars, axis=1)  # Variance along columns (each variable)\n",
    "\n",
    "# Print variances\n",
    "print(\"Variances of correlated random variables:\", variances)\n"
   ]
  },
  {
   "cell_type": "code",
   "execution_count": null,
   "metadata": {},
   "outputs": [],
   "source": []
  }
 ],
 "metadata": {
  "kernelspec": {
   "display_name": "Python 3 (ipykernel)",
   "language": "python",
   "name": "python3"
  },
  "language_info": {
   "codemirror_mode": {
    "name": "ipython",
    "version": 3
   },
   "file_extension": ".py",
   "mimetype": "text/x-python",
   "name": "python",
   "nbconvert_exporter": "python",
   "pygments_lexer": "ipython3",
   "version": "3.12.3"
  }
 },
 "nbformat": 4,
 "nbformat_minor": 4
}
