{
 "cells": [
  {
   "cell_type": "markdown",
   "metadata": {},
   "source": [
    "# NumPy Exercise: Correlated Gaussian Random Variables"
   ]
  },
  {
   "cell_type": "markdown",
   "metadata": {},
   "source": [
    "In many situations, we need to have a series of correlated Gaussian random variables, which can then be transformed into other distributions of interest (uniform, lognormal, etc.). Let's see how to do that with NumPy in Python.\n",
    "\n",
    "### Given:  \n",
    "\n",
    "|Variable | Value | Description |\n",
    "| ---: | :---: | :--- |\n",
    "|`n_real` | `1E6` | number of realizations|\n",
    "|`n_vars` | 3 | number of variables to correlate|\n",
    "|`cov` | `[[ 1. ,  0.2,  0.4], [ 0.2,  0.8,  0.3], [ 0.4,  0.3,  1.1]]` | covariance matrix|\n",
    "\n",
    "### Theory\n",
    "\n",
    "The procedure for generating correlated Gaussian is as follows:  \n",
    "1. Sample `[n_vars x n_real]` (uncorrelated) normal random variables\n",
    "2. Calculate `chol_mat`, the Cholesky decomposition of the covariance matrix\n",
    "3. Matrix-multiply your random variables with `chol_mat` to produce a `[n_vars x n_real]` array of correlated Gaussian variables\n",
    "\n",
    "### Exercise\n",
    "\n",
    "Do the following:  \n",
    "1. Fill in the blank cells below so that the code follows the theory outlined above.\n",
    "2. Calculate the variances of the three samples of random variables. Does it match the diagonal of the covariance matrix?\n",
    "3. Calculate the correlation coefficient between the first and second random samples. Does it match `cov[0, 1]`?\n",
    "\n",
    "### Hints\n",
    "\n",
    "- In the arrays of random variables, each row `i` corresponds to a *sample* of random variable `i` (just FYI).\n",
    "- Google is your friend :)"
   ]
  },
  {
   "cell_type": "code",
   "execution_count": 48,
   "metadata": {
    "collapsed": true
   },
   "outputs": [],
   "source": [
    "  # import any needed modules here\n",
    "import numpy as np\n",
    "import matplotlib.pyplot as plt"
   ]
  },
  {
   "cell_type": "code",
   "execution_count": 30,
   "metadata": {
    "collapsed": true
   },
   "outputs": [
    {
     "name": "stdout",
     "output_type": "stream",
     "text": [
      "[[1.  0.2 0.4]\n",
      " [0.2 0.8 0.3]\n",
      " [0.4 0.3 1.1]]\n"
     ]
    }
   ],
   "source": [
    "n_real =  int(1E6) # number of realizations\n",
    "n_vars =  3 # number of random variables we want to correlate\n",
    "cov =  np.array([[1., 0.2, 0.4], [0.2, 0.8, 0.3], [0.4, 0.3, 1.1]]) # covariance matrix\n",
    "print(cov)\n"
   ]
  },
  {
   "cell_type": "code",
   "execution_count": 36,
   "metadata": {
    "collapsed": true
   },
   "outputs": [
    {
     "name": "stdout",
     "output_type": "stream",
     "text": [
      "(3, 1000000)\n"
     ]
    }
   ],
   "source": [
    "unc_vars =  np.random.standard_normal((n_vars,n_real)) # create [n_vars x n_real] array of uncorrelated (unc) normal random variables\n",
    "print(unc_vars.shape)"
   ]
  },
  {
   "cell_type": "code",
   "execution_count": 34,
   "metadata": {
    "collapsed": true
   },
   "outputs": [
    {
     "name": "stdout",
     "output_type": "stream",
     "text": [
      "[[1.         0.         0.        ]\n",
      " [0.2        0.87177979 0.        ]\n",
      " [0.4        0.25235731 0.9361174 ]]\n"
     ]
    }
   ],
   "source": [
    "chol_mat =  np.linalg.cholesky(cov) # calculate the cholesky decomposition of the covariance matrix\n",
    "print(chol_mat)"
   ]
  },
  {
   "cell_type": "code",
   "execution_count": 52,
   "metadata": {
    "collapsed": true
   },
   "outputs": [
    {
     "name": "stdout",
     "output_type": "stream",
     "text": [
      "(3, 1000000)\n"
     ]
    }
   ],
   "source": [
    "mean = [1, 1, 1]\n",
    "cor_vars = np.dot(chol_mat,unc_vars) + np.array(mean).reshape(3,1) # [n_vars x n_real] array of correlated (cor) random variables\n",
    "print(cor_vars.shape)"
   ]
  },
  {
   "cell_type": "code",
   "execution_count": 57,
   "metadata": {
    "collapsed": true
   },
   "outputs": [
    {
     "name": "stdout",
     "output_type": "stream",
     "text": [
      "0.9995245302069801\n"
     ]
    }
   ],
   "source": [
    "  # calculate variances of each sample of random variables\n",
    "# fig, ax = plt.subplots(1, 1, figsize=(6, 3))\n",
    "# ax.scatter(cor_vars[0,:], cor_vars[1,:])\n",
    "unc_vars_var = np.var(unc_vars)\n",
    "print(unc_vars_var)\n"
   ]
  },
  {
   "cell_type": "code",
   "execution_count": 69,
   "metadata": {
    "collapsed": true
   },
   "outputs": [
    {
     "name": "stdout",
     "output_type": "stream",
     "text": [
      "(6, 6)\n"
     ]
    },
    {
     "data": {
      "text/plain": [
       "<matplotlib.collections.PathCollection at 0x12ad9952e10>"
      ]
     },
     "execution_count": 69,
     "metadata": {},
     "output_type": "execute_result"
    },
    {
     "data": {
      "image/png": "[encoded data removed]",
      "text/plain": [
       "<Figure size 600x300 with 1 Axes>"
      ]
     },
     "metadata": {},
     "output_type": "display_data"
    }
   ],
   "source": [
    "  # calculate the correlation coefficient between the first and second random samples\n",
    "corr_coef = np.corrcoef(unc_vars,cor_vars)\n",
    "print(corr_coef.shape)\n",
    "fig, ax = plt.subplots(1, 1, figsize=(6,3))\n",
    "ax.scatter(corr_coef[0,:], corr_coef[1,:])"
   ]
  },
  {
   "cell_type": "code",
   "execution_count": null,
   "metadata": {},
   "outputs": [],
   "source": []
  }
 ],
 "metadata": {
  "kernelspec": {
   "display_name": "base",
   "language": "python",
   "name": "python3"
  },
  "language_info": {
   "codemirror_mode": {
    "name": "ipython",
    "version": 3
   },
   "file_extension": ".py",
   "mimetype": "text/x-python",
   "name": "python",
   "nbconvert_exporter": "python",
   "pygments_lexer": "ipython3",
   "version": "3.12.7"
  }
 },
 "nbformat": 4,
 "nbformat_minor": 2
}
